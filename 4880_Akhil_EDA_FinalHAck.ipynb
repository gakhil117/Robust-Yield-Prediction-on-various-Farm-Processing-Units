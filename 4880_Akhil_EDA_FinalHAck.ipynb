{
 "cells": [
  {
   "cell_type": "markdown",
   "metadata": {},
   "source": [
    "## Exploratory Data Analysis - Visualization"
   ]
  },
  {
   "cell_type": "markdown",
   "metadata": {},
   "source": [
    "Import all the required libraries and reading the dataset(s)."
   ]
  },
  {
   "cell_type": "code",
   "execution_count": 2,
   "metadata": {},
   "outputs": [],
   "source": [
    "import pandas as pd\n",
    "import numpy as np\n",
    "import datetime\n",
    "\n",
    "import warnings\n",
    "warnings.filterwarnings('ignore')\n",
    "\n",
    "import seaborn as sns\n",
    "import matplotlib.pyplot as plt\n",
    "%matplotlib inline"
   ]
  },
  {
   "cell_type": "code",
   "execution_count": 3,
   "metadata": {},
   "outputs": [],
   "source": [
    "train_data = pd.read_csv(\"C:/Users/Admin/OneDrive/Desktop/Capstone/train_data.csv\")\n",
    "train_weather = pd.read_csv(\"C:/Users/Admin/OneDrive/Desktop/Capstone/train_weather.csv\")\n",
    "farm_data = pd.read_csv(\"C:/Users/Admin/OneDrive/Desktop/Capstone/farm_data.csv\")"
   ]
  },
  {
   "cell_type": "code",
   "execution_count": 7,
   "metadata": {},
   "outputs": [
    {
     "data": {
      "text/html": [
       "<div>\n",
       "<style scoped>\n",
       "    .dataframe tbody tr th:only-of-type {\n",
       "        vertical-align: middle;\n",
       "    }\n",
       "\n",
       "    .dataframe tbody tr th {\n",
       "        vertical-align: top;\n",
       "    }\n",
       "\n",
       "    .dataframe thead th {\n",
       "        text-align: right;\n",
       "    }\n",
       "</style>\n",
       "<table border=\"1\" class=\"dataframe\">\n",
       "  <thead>\n",
       "    <tr style=\"text-align: right;\">\n",
       "      <th></th>\n",
       "      <th>date</th>\n",
       "      <th>farm_id</th>\n",
       "      <th>ingredient_type</th>\n",
       "      <th>yield</th>\n",
       "    </tr>\n",
       "  </thead>\n",
       "  <tbody>\n",
       "    <tr>\n",
       "      <th>0</th>\n",
       "      <td>2016-01-01 00:00:00</td>\n",
       "      <td>fid_110884</td>\n",
       "      <td>ing_w</td>\n",
       "      <td>0.0</td>\n",
       "    </tr>\n",
       "    <tr>\n",
       "      <th>1</th>\n",
       "      <td>2016-01-01 00:00:00</td>\n",
       "      <td>fid_90053</td>\n",
       "      <td>ing_w</td>\n",
       "      <td>0.0</td>\n",
       "    </tr>\n",
       "    <tr>\n",
       "      <th>2</th>\n",
       "      <td>2016-01-01 00:00:00</td>\n",
       "      <td>fid_17537</td>\n",
       "      <td>ing_w</td>\n",
       "      <td>0.0</td>\n",
       "    </tr>\n",
       "    <tr>\n",
       "      <th>3</th>\n",
       "      <td>2016-01-01 00:00:00</td>\n",
       "      <td>fid_110392</td>\n",
       "      <td>ing_w</td>\n",
       "      <td>0.0</td>\n",
       "    </tr>\n",
       "    <tr>\n",
       "      <th>4</th>\n",
       "      <td>2016-01-01 00:00:00</td>\n",
       "      <td>fid_62402</td>\n",
       "      <td>ing_w</td>\n",
       "      <td>0.0</td>\n",
       "    </tr>\n",
       "  </tbody>\n",
       "</table>\n",
       "</div>"
      ],
      "text/plain": [
       "                  date     farm_id ingredient_type  yield\n",
       "0  2016-01-01 00:00:00  fid_110884           ing_w    0.0\n",
       "1  2016-01-01 00:00:00   fid_90053           ing_w    0.0\n",
       "2  2016-01-01 00:00:00   fid_17537           ing_w    0.0\n",
       "3  2016-01-01 00:00:00  fid_110392           ing_w    0.0\n",
       "4  2016-01-01 00:00:00   fid_62402           ing_w    0.0"
      ]
     },
     "execution_count": 7,
     "metadata": {},
     "output_type": "execute_result"
    }
   ],
   "source": [
    "train_data.head() #to see the first 5 records from the dataset"
   ]
  },
  {
   "cell_type": "code",
   "execution_count": 8,
   "metadata": {},
   "outputs": [
    {
     "data": {
      "text/html": [
       "<div>\n",
       "<style scoped>\n",
       "    .dataframe tbody tr th:only-of-type {\n",
       "        vertical-align: middle;\n",
       "    }\n",
       "\n",
       "    .dataframe tbody tr th {\n",
       "        vertical-align: top;\n",
       "    }\n",
       "\n",
       "    .dataframe thead th {\n",
       "        text-align: right;\n",
       "    }\n",
       "</style>\n",
       "<table border=\"1\" class=\"dataframe\">\n",
       "  <thead>\n",
       "    <tr style=\"text-align: right;\">\n",
       "      <th></th>\n",
       "      <th>timestamp</th>\n",
       "      <th>deidentified_location</th>\n",
       "      <th>temp_obs</th>\n",
       "      <th>cloudiness</th>\n",
       "      <th>wind_direction</th>\n",
       "      <th>dew_temp</th>\n",
       "      <th>pressure_sea_level</th>\n",
       "      <th>precipitation</th>\n",
       "      <th>wind_speed</th>\n",
       "    </tr>\n",
       "  </thead>\n",
       "  <tbody>\n",
       "    <tr>\n",
       "      <th>0</th>\n",
       "      <td>2016-01-01 00:00:00</td>\n",
       "      <td>location 7369</td>\n",
       "      <td>25.0</td>\n",
       "      <td>6.0</td>\n",
       "      <td>0.0</td>\n",
       "      <td>20.0</td>\n",
       "      <td>1019.7</td>\n",
       "      <td>NaN</td>\n",
       "      <td>0.0</td>\n",
       "    </tr>\n",
       "    <tr>\n",
       "      <th>1</th>\n",
       "      <td>2016-01-01 01:00:00</td>\n",
       "      <td>location 7369</td>\n",
       "      <td>24.4</td>\n",
       "      <td>NaN</td>\n",
       "      <td>70.0</td>\n",
       "      <td>21.1</td>\n",
       "      <td>1020.2</td>\n",
       "      <td>-1.0</td>\n",
       "      <td>1.5</td>\n",
       "    </tr>\n",
       "    <tr>\n",
       "      <th>2</th>\n",
       "      <td>2016-01-01 02:00:00</td>\n",
       "      <td>location 7369</td>\n",
       "      <td>22.8</td>\n",
       "      <td>2.0</td>\n",
       "      <td>0.0</td>\n",
       "      <td>21.1</td>\n",
       "      <td>1020.2</td>\n",
       "      <td>0.0</td>\n",
       "      <td>0.0</td>\n",
       "    </tr>\n",
       "    <tr>\n",
       "      <th>3</th>\n",
       "      <td>2016-01-01 03:00:00</td>\n",
       "      <td>location 7369</td>\n",
       "      <td>21.1</td>\n",
       "      <td>2.0</td>\n",
       "      <td>0.0</td>\n",
       "      <td>20.6</td>\n",
       "      <td>1020.1</td>\n",
       "      <td>0.0</td>\n",
       "      <td>0.0</td>\n",
       "    </tr>\n",
       "    <tr>\n",
       "      <th>4</th>\n",
       "      <td>2016-01-01 04:00:00</td>\n",
       "      <td>location 7369</td>\n",
       "      <td>20.0</td>\n",
       "      <td>2.0</td>\n",
       "      <td>250.0</td>\n",
       "      <td>20.0</td>\n",
       "      <td>1020.0</td>\n",
       "      <td>-1.0</td>\n",
       "      <td>2.6</td>\n",
       "    </tr>\n",
       "  </tbody>\n",
       "</table>\n",
       "</div>"
      ],
      "text/plain": [
       "             timestamp deidentified_location  temp_obs  cloudiness  \\\n",
       "0  2016-01-01 00:00:00         location 7369      25.0         6.0   \n",
       "1  2016-01-01 01:00:00         location 7369      24.4         NaN   \n",
       "2  2016-01-01 02:00:00         location 7369      22.8         2.0   \n",
       "3  2016-01-01 03:00:00         location 7369      21.1         2.0   \n",
       "4  2016-01-01 04:00:00         location 7369      20.0         2.0   \n",
       "\n",
       "   wind_direction  dew_temp  pressure_sea_level  precipitation  wind_speed  \n",
       "0             0.0      20.0              1019.7            NaN         0.0  \n",
       "1            70.0      21.1              1020.2           -1.0         1.5  \n",
       "2             0.0      21.1              1020.2            0.0         0.0  \n",
       "3             0.0      20.6              1020.1            0.0         0.0  \n",
       "4           250.0      20.0              1020.0           -1.0         2.6  "
      ]
     },
     "execution_count": 8,
     "metadata": {},
     "output_type": "execute_result"
    }
   ],
   "source": [
    "train_weather.head()"
   ]
  },
  {
   "cell_type": "code",
   "execution_count": 9,
   "metadata": {},
   "outputs": [
    {
     "data": {
      "text/html": [
       "<div>\n",
       "<style scoped>\n",
       "    .dataframe tbody tr th:only-of-type {\n",
       "        vertical-align: middle;\n",
       "    }\n",
       "\n",
       "    .dataframe tbody tr th {\n",
       "        vertical-align: top;\n",
       "    }\n",
       "\n",
       "    .dataframe thead th {\n",
       "        text-align: right;\n",
       "    }\n",
       "</style>\n",
       "<table border=\"1\" class=\"dataframe\">\n",
       "  <thead>\n",
       "    <tr style=\"text-align: right;\">\n",
       "      <th></th>\n",
       "      <th>farm_id</th>\n",
       "      <th>operations_commencing_year</th>\n",
       "      <th>num_processing_plants</th>\n",
       "      <th>farm_area</th>\n",
       "      <th>farming_company</th>\n",
       "      <th>deidentified_location</th>\n",
       "    </tr>\n",
       "  </thead>\n",
       "  <tbody>\n",
       "    <tr>\n",
       "      <th>0</th>\n",
       "      <td>fid_110884</td>\n",
       "      <td>2008.0</td>\n",
       "      <td>NaN</td>\n",
       "      <td>690.455096</td>\n",
       "      <td>Obery Farms</td>\n",
       "      <td>location 7369</td>\n",
       "    </tr>\n",
       "    <tr>\n",
       "      <th>1</th>\n",
       "      <td>fid_90053</td>\n",
       "      <td>2004.0</td>\n",
       "      <td>NaN</td>\n",
       "      <td>252.696160</td>\n",
       "      <td>Obery Farms</td>\n",
       "      <td>location 7369</td>\n",
       "    </tr>\n",
       "    <tr>\n",
       "      <th>2</th>\n",
       "      <td>fid_17537</td>\n",
       "      <td>1991.0</td>\n",
       "      <td>NaN</td>\n",
       "      <td>499.446528</td>\n",
       "      <td>Obery Farms</td>\n",
       "      <td>location 7369</td>\n",
       "    </tr>\n",
       "    <tr>\n",
       "      <th>3</th>\n",
       "      <td>fid_110392</td>\n",
       "      <td>2002.0</td>\n",
       "      <td>NaN</td>\n",
       "      <td>2200.407555</td>\n",
       "      <td>Obery Farms</td>\n",
       "      <td>location 7369</td>\n",
       "    </tr>\n",
       "    <tr>\n",
       "      <th>4</th>\n",
       "      <td>fid_62402</td>\n",
       "      <td>1975.0</td>\n",
       "      <td>NaN</td>\n",
       "      <td>10833.140121</td>\n",
       "      <td>Obery Farms</td>\n",
       "      <td>location 7369</td>\n",
       "    </tr>\n",
       "  </tbody>\n",
       "</table>\n",
       "</div>"
      ],
      "text/plain": [
       "      farm_id  operations_commencing_year  num_processing_plants  \\\n",
       "0  fid_110884                      2008.0                    NaN   \n",
       "1   fid_90053                      2004.0                    NaN   \n",
       "2   fid_17537                      1991.0                    NaN   \n",
       "3  fid_110392                      2002.0                    NaN   \n",
       "4   fid_62402                      1975.0                    NaN   \n",
       "\n",
       "      farm_area farming_company deidentified_location  \n",
       "0    690.455096     Obery Farms         location 7369  \n",
       "1    252.696160     Obery Farms         location 7369  \n",
       "2    499.446528     Obery Farms         location 7369  \n",
       "3   2200.407555     Obery Farms         location 7369  \n",
       "4  10833.140121     Obery Farms         location 7369  "
      ]
     },
     "execution_count": 9,
     "metadata": {},
     "output_type": "execute_result"
    }
   ],
   "source": [
    "farm_data.head()"
   ]
  },
  {
   "cell_type": "markdown",
   "metadata": {},
   "source": [
    "### Getting the Info of data"
   ]
  },
  {
   "cell_type": "code",
   "execution_count": 10,
   "metadata": {
    "scrolled": true
   },
   "outputs": [
    {
     "name": "stdout",
     "output_type": "stream",
     "text": [
      "<class 'pandas.core.frame.DataFrame'>\n",
      "RangeIndex: 139773 entries, 0 to 139772\n",
      "Data columns (total 9 columns):\n",
      " #   Column                 Non-Null Count   Dtype  \n",
      "---  ------                 --------------   -----  \n",
      " 0   timestamp              139773 non-null  object \n",
      " 1   deidentified_location  139773 non-null  object \n",
      " 2   temp_obs               139718 non-null  float64\n",
      " 3   cloudiness             70600 non-null   float64\n",
      " 4   wind_direction         133505 non-null  float64\n",
      " 5   dew_temp               139660 non-null  float64\n",
      " 6   pressure_sea_level     129155 non-null  float64\n",
      " 7   precipitation          89484 non-null   float64\n",
      " 8   wind_speed             139469 non-null  float64\n",
      "dtypes: float64(7), object(2)\n",
      "memory usage: 9.6+ MB\n",
      "<class 'pandas.core.frame.DataFrame'>\n",
      "RangeIndex: 20216100 entries, 0 to 20216099\n",
      "Data columns (total 4 columns):\n",
      " #   Column           Dtype  \n",
      "---  ------           -----  \n",
      " 0   date             object \n",
      " 1   farm_id          object \n",
      " 2   ingredient_type  object \n",
      " 3   yield            float64\n",
      "dtypes: float64(1), object(3)\n",
      "memory usage: 616.9+ MB\n"
     ]
    }
   ],
   "source": [
    "train_weather.info()\n",
    "train_data.info() #Info - shows the rangeindex, columns, dtypes, memory usage etc"
   ]
  },
  {
   "cell_type": "code",
   "execution_count": 11,
   "metadata": {},
   "outputs": [
    {
     "name": "stdout",
     "output_type": "stream",
     "text": [
      "<class 'pandas.core.frame.DataFrame'>\n",
      "RangeIndex: 1449 entries, 0 to 1448\n",
      "Data columns (total 6 columns):\n",
      " #   Column                      Non-Null Count  Dtype  \n",
      "---  ------                      --------------  -----  \n",
      " 0   farm_id                     1449 non-null   object \n",
      " 1   operations_commencing_year  675 non-null    float64\n",
      " 2   num_processing_plants       355 non-null    float64\n",
      " 3   farm_area                   1449 non-null   float64\n",
      " 4   farming_company             1449 non-null   object \n",
      " 5   deidentified_location       1449 non-null   object \n",
      "dtypes: float64(3), object(3)\n",
      "memory usage: 68.0+ KB\n"
     ]
    }
   ],
   "source": [
    "farm_data.info()"
   ]
  },
  {
   "cell_type": "markdown",
   "metadata": {},
   "source": [
    "## Summary Statistics and Distribution of the Numeric and Categorical Columns"
   ]
  },
  {
   "cell_type": "code",
   "execution_count": 12,
   "metadata": {},
   "outputs": [
    {
     "data": {
      "text/html": [
       "<div>\n",
       "<style scoped>\n",
       "    .dataframe tbody tr th:only-of-type {\n",
       "        vertical-align: middle;\n",
       "    }\n",
       "\n",
       "    .dataframe tbody tr th {\n",
       "        vertical-align: top;\n",
       "    }\n",
       "\n",
       "    .dataframe thead th {\n",
       "        text-align: right;\n",
       "    }\n",
       "</style>\n",
       "<table border=\"1\" class=\"dataframe\">\n",
       "  <thead>\n",
       "    <tr style=\"text-align: right;\">\n",
       "      <th></th>\n",
       "      <th>operations_commencing_year</th>\n",
       "      <th>num_processing_plants</th>\n",
       "      <th>farm_area</th>\n",
       "    </tr>\n",
       "  </thead>\n",
       "  <tbody>\n",
       "    <tr>\n",
       "      <th>count</th>\n",
       "      <td>675.000000</td>\n",
       "      <td>355.000000</td>\n",
       "      <td>1449.000000</td>\n",
       "    </tr>\n",
       "    <tr>\n",
       "      <th>mean</th>\n",
       "      <td>1967.957037</td>\n",
       "      <td>7.740845</td>\n",
       "      <td>8557.460363</td>\n",
       "    </tr>\n",
       "    <tr>\n",
       "      <th>std</th>\n",
       "      <td>31.054030</td>\n",
       "      <td>3.333683</td>\n",
       "      <td>10290.860757</td>\n",
       "    </tr>\n",
       "    <tr>\n",
       "      <th>min</th>\n",
       "      <td>1900.000000</td>\n",
       "      <td>5.000000</td>\n",
       "      <td>26.291549</td>\n",
       "    </tr>\n",
       "    <tr>\n",
       "      <th>25%</th>\n",
       "      <td>1949.000000</td>\n",
       "      <td>5.000000</td>\n",
       "      <td>2137.883836</td>\n",
       "    </tr>\n",
       "    <tr>\n",
       "      <th>50%</th>\n",
       "      <td>1970.000000</td>\n",
       "      <td>7.000000</td>\n",
       "      <td>5357.994719</td>\n",
       "    </tr>\n",
       "    <tr>\n",
       "      <th>75%</th>\n",
       "      <td>1995.000000</td>\n",
       "      <td>9.000000</td>\n",
       "      <td>10746.647428</td>\n",
       "    </tr>\n",
       "    <tr>\n",
       "      <th>max</th>\n",
       "      <td>2017.000000</td>\n",
       "      <td>30.000000</td>\n",
       "      <td>81290.125000</td>\n",
       "    </tr>\n",
       "  </tbody>\n",
       "</table>\n",
       "</div>"
      ],
      "text/plain": [
       "       operations_commencing_year  num_processing_plants     farm_area\n",
       "count                  675.000000             355.000000   1449.000000\n",
       "mean                  1967.957037               7.740845   8557.460363\n",
       "std                     31.054030               3.333683  10290.860757\n",
       "min                   1900.000000               5.000000     26.291549\n",
       "25%                   1949.000000               5.000000   2137.883836\n",
       "50%                   1970.000000               7.000000   5357.994719\n",
       "75%                   1995.000000               9.000000  10746.647428\n",
       "max                   2017.000000              30.000000  81290.125000"
      ]
     },
     "execution_count": 12,
     "metadata": {},
     "output_type": "execute_result"
    }
   ],
   "source": [
    "# Distribution of the Numerical Columns.\n",
    "farm_data.describe()"
   ]
  },
  {
   "cell_type": "code",
   "execution_count": 13,
   "metadata": {},
   "outputs": [
    {
     "data": {
      "text/html": [
       "<div>\n",
       "<style scoped>\n",
       "    .dataframe tbody tr th:only-of-type {\n",
       "        vertical-align: middle;\n",
       "    }\n",
       "\n",
       "    .dataframe tbody tr th {\n",
       "        vertical-align: top;\n",
       "    }\n",
       "\n",
       "    .dataframe thead th {\n",
       "        text-align: right;\n",
       "    }\n",
       "</style>\n",
       "<table border=\"1\" class=\"dataframe\">\n",
       "  <thead>\n",
       "    <tr style=\"text-align: right;\">\n",
       "      <th></th>\n",
       "      <th>temp_obs</th>\n",
       "      <th>cloudiness</th>\n",
       "      <th>wind_direction</th>\n",
       "      <th>dew_temp</th>\n",
       "      <th>pressure_sea_level</th>\n",
       "      <th>precipitation</th>\n",
       "      <th>wind_speed</th>\n",
       "    </tr>\n",
       "  </thead>\n",
       "  <tbody>\n",
       "    <tr>\n",
       "      <th>count</th>\n",
       "      <td>139718.000000</td>\n",
       "      <td>70600.000000</td>\n",
       "      <td>133505.000000</td>\n",
       "      <td>139660.000000</td>\n",
       "      <td>129155.000000</td>\n",
       "      <td>89484.000000</td>\n",
       "      <td>139469.000000</td>\n",
       "    </tr>\n",
       "    <tr>\n",
       "      <th>mean</th>\n",
       "      <td>14.418106</td>\n",
       "      <td>2.149306</td>\n",
       "      <td>180.526632</td>\n",
       "      <td>7.350158</td>\n",
       "      <td>1016.158038</td>\n",
       "      <td>0.983047</td>\n",
       "      <td>3.560527</td>\n",
       "    </tr>\n",
       "    <tr>\n",
       "      <th>std</th>\n",
       "      <td>10.626595</td>\n",
       "      <td>2.599150</td>\n",
       "      <td>111.523629</td>\n",
       "      <td>9.790235</td>\n",
       "      <td>7.629684</td>\n",
       "      <td>8.463678</td>\n",
       "      <td>2.335874</td>\n",
       "    </tr>\n",
       "    <tr>\n",
       "      <th>min</th>\n",
       "      <td>-28.900000</td>\n",
       "      <td>0.000000</td>\n",
       "      <td>0.000000</td>\n",
       "      <td>-35.000000</td>\n",
       "      <td>968.200000</td>\n",
       "      <td>-1.000000</td>\n",
       "      <td>0.000000</td>\n",
       "    </tr>\n",
       "    <tr>\n",
       "      <th>25%</th>\n",
       "      <td>7.200000</td>\n",
       "      <td>0.000000</td>\n",
       "      <td>80.000000</td>\n",
       "      <td>0.600000</td>\n",
       "      <td>1011.800000</td>\n",
       "      <td>0.000000</td>\n",
       "      <td>2.100000</td>\n",
       "    </tr>\n",
       "    <tr>\n",
       "      <th>50%</th>\n",
       "      <td>15.000000</td>\n",
       "      <td>2.000000</td>\n",
       "      <td>190.000000</td>\n",
       "      <td>8.300000</td>\n",
       "      <td>1016.400000</td>\n",
       "      <td>0.000000</td>\n",
       "      <td>3.100000</td>\n",
       "    </tr>\n",
       "    <tr>\n",
       "      <th>75%</th>\n",
       "      <td>22.200000</td>\n",
       "      <td>4.000000</td>\n",
       "      <td>280.000000</td>\n",
       "      <td>14.400000</td>\n",
       "      <td>1020.800000</td>\n",
       "      <td>0.000000</td>\n",
       "      <td>5.000000</td>\n",
       "    </tr>\n",
       "    <tr>\n",
       "      <th>max</th>\n",
       "      <td>47.200000</td>\n",
       "      <td>9.000000</td>\n",
       "      <td>360.000000</td>\n",
       "      <td>26.100000</td>\n",
       "      <td>1045.500000</td>\n",
       "      <td>343.000000</td>\n",
       "      <td>19.000000</td>\n",
       "    </tr>\n",
       "  </tbody>\n",
       "</table>\n",
       "</div>"
      ],
      "text/plain": [
       "            temp_obs    cloudiness  wind_direction       dew_temp  \\\n",
       "count  139718.000000  70600.000000   133505.000000  139660.000000   \n",
       "mean       14.418106      2.149306      180.526632       7.350158   \n",
       "std        10.626595      2.599150      111.523629       9.790235   \n",
       "min       -28.900000      0.000000        0.000000     -35.000000   \n",
       "25%         7.200000      0.000000       80.000000       0.600000   \n",
       "50%        15.000000      2.000000      190.000000       8.300000   \n",
       "75%        22.200000      4.000000      280.000000      14.400000   \n",
       "max        47.200000      9.000000      360.000000      26.100000   \n",
       "\n",
       "       pressure_sea_level  precipitation     wind_speed  \n",
       "count       129155.000000   89484.000000  139469.000000  \n",
       "mean          1016.158038       0.983047       3.560527  \n",
       "std              7.629684       8.463678       2.335874  \n",
       "min            968.200000      -1.000000       0.000000  \n",
       "25%           1011.800000       0.000000       2.100000  \n",
       "50%           1016.400000       0.000000       3.100000  \n",
       "75%           1020.800000       0.000000       5.000000  \n",
       "max           1045.500000     343.000000      19.000000  "
      ]
     },
     "execution_count": 13,
     "metadata": {},
     "output_type": "execute_result"
    }
   ],
   "source": [
    "train_weather.describe() #shows the summary stats such as mean, percentiles, min max values and can be intrepeted on hole data"
   ]
  },
  {
   "cell_type": "code",
   "execution_count": 14,
   "metadata": {},
   "outputs": [
    {
     "data": {
      "text/html": [
       "<div>\n",
       "<style scoped>\n",
       "    .dataframe tbody tr th:only-of-type {\n",
       "        vertical-align: middle;\n",
       "    }\n",
       "\n",
       "    .dataframe tbody tr th {\n",
       "        vertical-align: top;\n",
       "    }\n",
       "\n",
       "    .dataframe thead th {\n",
       "        text-align: right;\n",
       "    }\n",
       "</style>\n",
       "<table border=\"1\" class=\"dataframe\">\n",
       "  <thead>\n",
       "    <tr style=\"text-align: right;\">\n",
       "      <th></th>\n",
       "      <th>date</th>\n",
       "      <th>farm_id</th>\n",
       "      <th>ingredient_type</th>\n",
       "    </tr>\n",
       "  </thead>\n",
       "  <tbody>\n",
       "    <tr>\n",
       "      <th>count</th>\n",
       "      <td>20216100</td>\n",
       "      <td>20216100</td>\n",
       "      <td>20216100</td>\n",
       "    </tr>\n",
       "    <tr>\n",
       "      <th>unique</th>\n",
       "      <td>8784</td>\n",
       "      <td>1434</td>\n",
       "      <td>4</td>\n",
       "    </tr>\n",
       "    <tr>\n",
       "      <th>top</th>\n",
       "      <td>2016-12-27 22:00:00</td>\n",
       "      <td>fid_63700</td>\n",
       "      <td>ing_w</td>\n",
       "    </tr>\n",
       "    <tr>\n",
       "      <th>freq</th>\n",
       "      <td>2370</td>\n",
       "      <td>51227</td>\n",
       "      <td>12060910</td>\n",
       "    </tr>\n",
       "  </tbody>\n",
       "</table>\n",
       "</div>"
      ],
      "text/plain": [
       "                       date    farm_id ingredient_type\n",
       "count              20216100   20216100        20216100\n",
       "unique                 8784       1434               4\n",
       "top     2016-12-27 22:00:00  fid_63700           ing_w\n",
       "freq                   2370      51227        12060910"
      ]
     },
     "execution_count": 14,
     "metadata": {},
     "output_type": "execute_result"
    }
   ],
   "source": [
    "# Distribution of the categorical variables levels .\n",
    "train_data.describe(include = ['object'])"
   ]
  },
  {
   "cell_type": "code",
   "execution_count": 15,
   "metadata": {},
   "outputs": [
    {
     "data": {
      "text/html": [
       "<div>\n",
       "<style scoped>\n",
       "    .dataframe tbody tr th:only-of-type {\n",
       "        vertical-align: middle;\n",
       "    }\n",
       "\n",
       "    .dataframe tbody tr th {\n",
       "        vertical-align: top;\n",
       "    }\n",
       "\n",
       "    .dataframe thead th {\n",
       "        text-align: right;\n",
       "    }\n",
       "</style>\n",
       "<table border=\"1\" class=\"dataframe\">\n",
       "  <thead>\n",
       "    <tr style=\"text-align: right;\">\n",
       "      <th></th>\n",
       "      <th>timestamp</th>\n",
       "      <th>deidentified_location</th>\n",
       "    </tr>\n",
       "  </thead>\n",
       "  <tbody>\n",
       "    <tr>\n",
       "      <th>count</th>\n",
       "      <td>139773</td>\n",
       "      <td>139773</td>\n",
       "    </tr>\n",
       "    <tr>\n",
       "      <th>unique</th>\n",
       "      <td>8784</td>\n",
       "      <td>16</td>\n",
       "    </tr>\n",
       "    <tr>\n",
       "      <th>top</th>\n",
       "      <td>2016-07-02 00:00:00</td>\n",
       "      <td>location 7369</td>\n",
       "    </tr>\n",
       "    <tr>\n",
       "      <th>freq</th>\n",
       "      <td>16</td>\n",
       "      <td>8784</td>\n",
       "    </tr>\n",
       "  </tbody>\n",
       "</table>\n",
       "</div>"
      ],
      "text/plain": [
       "                  timestamp deidentified_location\n",
       "count                139773                139773\n",
       "unique                 8784                    16\n",
       "top     2016-07-02 00:00:00         location 7369\n",
       "freq                     16                  8784"
      ]
     },
     "execution_count": 15,
     "metadata": {},
     "output_type": "execute_result"
    }
   ],
   "source": [
    "train_weather.describe(include = ['object'])"
   ]
  },
  {
   "cell_type": "code",
   "execution_count": 16,
   "metadata": {},
   "outputs": [
    {
     "data": {
      "text/html": [
       "<div>\n",
       "<style scoped>\n",
       "    .dataframe tbody tr th:only-of-type {\n",
       "        vertical-align: middle;\n",
       "    }\n",
       "\n",
       "    .dataframe tbody tr th {\n",
       "        vertical-align: top;\n",
       "    }\n",
       "\n",
       "    .dataframe thead th {\n",
       "        text-align: right;\n",
       "    }\n",
       "</style>\n",
       "<table border=\"1\" class=\"dataframe\">\n",
       "  <thead>\n",
       "    <tr style=\"text-align: right;\">\n",
       "      <th></th>\n",
       "      <th>farm_id</th>\n",
       "      <th>farming_company</th>\n",
       "      <th>deidentified_location</th>\n",
       "    </tr>\n",
       "  </thead>\n",
       "  <tbody>\n",
       "    <tr>\n",
       "      <th>count</th>\n",
       "      <td>1449</td>\n",
       "      <td>1449</td>\n",
       "      <td>1449</td>\n",
       "    </tr>\n",
       "    <tr>\n",
       "      <th>unique</th>\n",
       "      <td>1434</td>\n",
       "      <td>16</td>\n",
       "      <td>16</td>\n",
       "    </tr>\n",
       "    <tr>\n",
       "      <th>top</th>\n",
       "      <td>fid_29387</td>\n",
       "      <td>Obery Farms</td>\n",
       "      <td>location 5290</td>\n",
       "    </tr>\n",
       "    <tr>\n",
       "      <th>freq</th>\n",
       "      <td>2</td>\n",
       "      <td>549</td>\n",
       "      <td>274</td>\n",
       "    </tr>\n",
       "  </tbody>\n",
       "</table>\n",
       "</div>"
      ],
      "text/plain": [
       "          farm_id farming_company deidentified_location\n",
       "count        1449            1449                  1449\n",
       "unique       1434              16                    16\n",
       "top     fid_29387     Obery Farms         location 5290\n",
       "freq            2             549                   274"
      ]
     },
     "execution_count": 16,
     "metadata": {},
     "output_type": "execute_result"
    }
   ],
   "source": [
    "farm_data.describe(include = ['object'])"
   ]
  },
  {
   "cell_type": "code",
   "execution_count": 17,
   "metadata": {},
   "outputs": [],
   "source": [
    "#Changing the dtypes to to_datetimes in pandas format\n",
    "train_weather[\"timestamp\"] = pd.to_datetime(train_weather[\"timestamp\"])\n",
    "train_data[\"date\"] = pd.to_datetime(train_data[\"date\"])\n",
    "#renaming the column names as datasets holds different names as timestamp and date\n",
    "train_data.rename(columns = {\"date\":\"timestamp\"}, inplace=True)"
   ]
  },
  {
   "cell_type": "code",
   "execution_count": 18,
   "metadata": {},
   "outputs": [],
   "source": [
    "#Merging the datasets as a single data and named it as train data\n",
    "df = pd.merge(farm_data, train_data, on=\"farm_id\")\n",
    "train = pd.merge(train_weather, df, on = [\"deidentified_location\",\"timestamp\"])"
   ]
  },
  {
   "cell_type": "code",
   "execution_count": 19,
   "metadata": {},
   "outputs": [
    {
     "data": {
      "text/plain": [
       "ing_w    59.659925\n",
       "ing_x    20.688659\n",
       "ing_y    13.398791\n",
       "ing_z     6.252625\n",
       "Name: ingredient_type, dtype: float64"
      ]
     },
     "execution_count": 19,
     "metadata": {},
     "output_type": "execute_result"
    },
    {
     "data": {
      "image/png": "[encoded data removed]",
      "text/plain": [
       "<Figure size 432x288 with 1 Axes>"
      ]
     },
     "metadata": {
      "needs_background": "light"
     },
     "output_type": "display_data"
    }
   ],
   "source": [
    "#ingredient type count\n",
    "plt.title(\"Ingredients Types Frequency Value Count\")\n",
    "sns.countplot(x=\"ingredient_type\", data= train)\n",
    "#Unique value count of the ingredient_type column\n",
    "train_data.ingredient_type.value_counts(normalize = True)*100"
   ]
  },
  {
   "cell_type": "markdown",
   "metadata": {},
   "source": [
    "The ingredient type **\"ing_w\"** has top occuruning value of 60%, which means that the data is mainly around the ingredient type **\"ing_w\"**"
   ]
  },
  {
   "cell_type": "code",
   "execution_count": 20,
   "metadata": {},
   "outputs": [
    {
     "data": {
      "text/plain": [
       "timestamp                        8784\n",
       "deidentified_location              16\n",
       "temp_obs                          620\n",
       "cloudiness                         11\n",
       "wind_direction                     44\n",
       "dew_temp                          523\n",
       "pressure_sea_level                710\n",
       "precipitation                     129\n",
       "wind_speed                         59\n",
       "farm_id                          1434\n",
       "operations_commencing_year        117\n",
       "num_processing_plants              19\n",
       "farm_area                        1397\n",
       "farming_company                    16\n",
       "ingredient_type                     4\n",
       "yield                         1679625\n",
       "dtype: int64"
      ]
     },
     "execution_count": 20,
     "metadata": {},
     "output_type": "execute_result"
    }
   ],
   "source": [
    "# unique value count analysis.\n",
    "train.nunique(axis = 0 , dropna = False)"
   ]
  },
  {
   "cell_type": "code",
   "execution_count": 21,
   "metadata": {
    "scrolled": true
   },
   "outputs": [
    {
     "data": {
      "text/plain": [
       "Obery Farms                            549\n",
       "Wayne Farms                            279\n",
       "Sanderson Farms                        184\n",
       "Del Monte Foods                        156\n",
       "Dole Food Company                      147\n",
       "Other                                   25\n",
       "Foster Farms                            23\n",
       "Freight Farms                           22\n",
       "Mountaire Farms                         13\n",
       "Monogram Foods                          12\n",
       "Tyson Foods                             11\n",
       "Northland Organic Foods Corporation     10\n",
       "West Liberty Foods                       6\n",
       "Perdue Farms                             5\n",
       "Kansas Ville Farms                       4\n",
       "Southern Confederate Farms               3\n",
       "Name: farming_company, dtype: int64"
      ]
     },
     "execution_count": 21,
     "metadata": {},
     "output_type": "execute_result"
    },
    {
     "data": {
      "image/png": "[encoded data removed]",
      "text/plain": [
       "<Figure size 432x288 with 1 Axes>"
      ]
     },
     "metadata": {
      "needs_background": "light"
     },
     "output_type": "display_data"
    }
   ],
   "source": [
    "#Countplot to display the observations/max occurence in 'farming_company' column\n",
    "sns.countplot(y=\"farming_company\", data= train )\n",
    "plt.title(\"Maximum Occurence of each Farming Company\")\n",
    "\n",
    "#Unique value count of the farming_company column\n",
    "farm_data.farming_company.value_counts()\n"
   ]
  },
  {
   "cell_type": "markdown",
   "metadata": {},
   "source": [
    "Top 5 farming companies contributing to the growth are **1)Obery Farms**  **2)Wayne Farms**\n",
    "**3)Sanderson Farms**  **4)Del Monte Foods** **&** **5) Dole Food Company**"
   ]
  },
  {
   "cell_type": "code",
   "execution_count": 22,
   "metadata": {},
   "outputs": [
    {
     "data": {
      "text/plain": [
       "location 5290    274\n",
       "location 2532    154\n",
       "location 5489    135\n",
       "location 8421    124\n",
       "location 5150    124\n",
       "location 7369    105\n",
       "location 5410    102\n",
       "location 5833     91\n",
       "location 6364     89\n",
       "location 5677     70\n",
       "location 959      51\n",
       "location 565      44\n",
       "location 7048     36\n",
       "location 1784     30\n",
       "location 4525     15\n",
       "location 868       5\n",
       "Name: deidentified_location, dtype: int64"
      ]
     },
     "execution_count": 22,
     "metadata": {},
     "output_type": "execute_result"
    },
    {
     "data": {
      "image/png": "[encoded data removed]",
      "text/plain": [
       "<Figure size 432x288 with 1 Axes>"
      ]
     },
     "metadata": {
      "needs_background": "light"
     },
     "output_type": "display_data"
    }
   ],
   "source": [
    "#Count Plot to display the Unique locations\n",
    "sns.countplot(x=\"deidentified_location\", data= farm_data)\n",
    "plt.xticks(rotation = 90)\n",
    "\n",
    "# Value count of unique locations\n",
    "farm_data.deidentified_location.value_counts()"
   ]
  },
  {
   "cell_type": "code",
   "execution_count": 24,
   "metadata": {
    "scrolled": false
   },
   "outputs": [
    {
     "data": {
      "image/png": "[encoded data removed]",
      "text/plain": [
       "<Figure size 432x288 with 1 Axes>"
      ]
     },
     "metadata": {
      "needs_background": "light"
     },
     "output_type": "display_data"
    }
   ],
   "source": [
    "#Plot for distribution of Farm Area.\n",
    "sns.distplot(train['farm_area'])\n",
    "plt.title('Farm Area Distribution')\n",
    "plt.show()"
   ]
  },
  {
   "cell_type": "raw",
   "metadata": {},
   "source": [
    "Farm area is skewed so it resemebles that most of the farm area ranges between (0-10000)"
   ]
  },
  {
   "cell_type": "code",
   "execution_count": 25,
   "metadata": {
    "scrolled": true
   },
   "outputs": [
    {
     "data": {
      "text/html": [
       "<div>\n",
       "<style scoped>\n",
       "    .dataframe tbody tr th:only-of-type {\n",
       "        vertical-align: middle;\n",
       "    }\n",
       "\n",
       "    .dataframe tbody tr th {\n",
       "        vertical-align: top;\n",
       "    }\n",
       "\n",
       "    .dataframe thead th {\n",
       "        text-align: right;\n",
       "    }\n",
       "</style>\n",
       "<table border=\"1\" class=\"dataframe\">\n",
       "  <thead>\n",
       "    <tr style=\"text-align: right;\">\n",
       "      <th></th>\n",
       "      <th>farming_company</th>\n",
       "      <th>farm_area</th>\n",
       "    </tr>\n",
       "  </thead>\n",
       "  <tbody>\n",
       "    <tr>\n",
       "      <th>8</th>\n",
       "      <td>Obery Farms</td>\n",
       "      <td>9.162105e+10</td>\n",
       "    </tr>\n",
       "    <tr>\n",
       "      <th>14</th>\n",
       "      <td>Wayne Farms</td>\n",
       "      <td>4.024368e+10</td>\n",
       "    </tr>\n",
       "    <tr>\n",
       "      <th>11</th>\n",
       "      <td>Sanderson Farms</td>\n",
       "      <td>2.228773e+10</td>\n",
       "    </tr>\n",
       "    <tr>\n",
       "      <th>1</th>\n",
       "      <td>Dole Food Company</td>\n",
       "      <td>2.028700e+10</td>\n",
       "    </tr>\n",
       "    <tr>\n",
       "      <th>0</th>\n",
       "      <td>Del Monte Foods</td>\n",
       "      <td>1.381347e+10</td>\n",
       "    </tr>\n",
       "    <tr>\n",
       "      <th>3</th>\n",
       "      <td>Freight Farms</td>\n",
       "      <td>5.704452e+09</td>\n",
       "    </tr>\n",
       "    <tr>\n",
       "      <th>2</th>\n",
       "      <td>Foster Farms</td>\n",
       "      <td>5.184002e+09</td>\n",
       "    </tr>\n",
       "    <tr>\n",
       "      <th>7</th>\n",
       "      <td>Northland Organic Foods Corporation</td>\n",
       "      <td>1.674744e+09</td>\n",
       "    </tr>\n",
       "    <tr>\n",
       "      <th>9</th>\n",
       "      <td>Other</td>\n",
       "      <td>6.552525e+08</td>\n",
       "    </tr>\n",
       "    <tr>\n",
       "      <th>5</th>\n",
       "      <td>Monogram Foods</td>\n",
       "      <td>4.883067e+08</td>\n",
       "    </tr>\n",
       "    <tr>\n",
       "      <th>6</th>\n",
       "      <td>Mountaire Farms</td>\n",
       "      <td>4.800678e+08</td>\n",
       "    </tr>\n",
       "    <tr>\n",
       "      <th>15</th>\n",
       "      <td>West Liberty Foods</td>\n",
       "      <td>4.763241e+08</td>\n",
       "    </tr>\n",
       "    <tr>\n",
       "      <th>13</th>\n",
       "      <td>Tyson Foods</td>\n",
       "      <td>4.292041e+08</td>\n",
       "    </tr>\n",
       "    <tr>\n",
       "      <th>10</th>\n",
       "      <td>Perdue Farms</td>\n",
       "      <td>4.198810e+08</td>\n",
       "    </tr>\n",
       "    <tr>\n",
       "      <th>4</th>\n",
       "      <td>Kansas Ville Farms</td>\n",
       "      <td>1.602001e+08</td>\n",
       "    </tr>\n",
       "    <tr>\n",
       "      <th>12</th>\n",
       "      <td>Southern Confederate Farms</td>\n",
       "      <td>5.623949e+07</td>\n",
       "    </tr>\n",
       "  </tbody>\n",
       "</table>\n",
       "</div>"
      ],
      "text/plain": [
       "                        farming_company     farm_area\n",
       "8                           Obery Farms  9.162105e+10\n",
       "14                          Wayne Farms  4.024368e+10\n",
       "11                      Sanderson Farms  2.228773e+10\n",
       "1                     Dole Food Company  2.028700e+10\n",
       "0                       Del Monte Foods  1.381347e+10\n",
       "3                         Freight Farms  5.704452e+09\n",
       "2                          Foster Farms  5.184002e+09\n",
       "7   Northland Organic Foods Corporation  1.674744e+09\n",
       "9                                 Other  6.552525e+08\n",
       "5                        Monogram Foods  4.883067e+08\n",
       "6                       Mountaire Farms  4.800678e+08\n",
       "15                   West Liberty Foods  4.763241e+08\n",
       "13                          Tyson Foods  4.292041e+08\n",
       "10                         Perdue Farms  4.198810e+08\n",
       "4                    Kansas Ville Farms  1.602001e+08\n",
       "12           Southern Confederate Farms  5.623949e+07"
      ]
     },
     "execution_count": 25,
     "metadata": {},
     "output_type": "execute_result"
    }
   ],
   "source": [
    "#Farming Companys with highest Farm Area\n",
    "df1 = train.groupby(['farming_company'])['farm_area'].sum().reset_index()\n",
    "#df.reset_index()\n",
    "df1.sort_values('farm_area', ascending = False)\n"
   ]
  },
  {
   "cell_type": "markdown",
   "metadata": {},
   "source": [
    "Farm companies 1)Obery Farms 2) Wayne Farms 3) Sanderson Farms 4) Dole Food Company & 5) Del Monte Foods which had an\n",
    "maximum occurence in the data tells us about the max amount of farming area/land they possess. "
   ]
  },
  {
   "cell_type": "code",
   "execution_count": 26,
   "metadata": {},
   "outputs": [
    {
     "data": {
      "text/html": [
       "<div>\n",
       "<style scoped>\n",
       "    .dataframe tbody tr th:only-of-type {\n",
       "        vertical-align: middle;\n",
       "    }\n",
       "\n",
       "    .dataframe tbody tr th {\n",
       "        vertical-align: top;\n",
       "    }\n",
       "\n",
       "    .dataframe thead th {\n",
       "        text-align: right;\n",
       "    }\n",
       "</style>\n",
       "<table border=\"1\" class=\"dataframe\">\n",
       "  <thead>\n",
       "    <tr style=\"text-align: right;\">\n",
       "      <th></th>\n",
       "      <th>deidentified_location</th>\n",
       "      <th>farm_area</th>\n",
       "    </tr>\n",
       "  </thead>\n",
       "  <tbody>\n",
       "    <tr>\n",
       "      <th>13</th>\n",
       "      <td>location 8421</td>\n",
       "      <td>3.843340e+10</td>\n",
       "    </tr>\n",
       "    <tr>\n",
       "      <th>1</th>\n",
       "      <td>location 2532</td>\n",
       "      <td>3.805084e+10</td>\n",
       "    </tr>\n",
       "    <tr>\n",
       "      <th>6</th>\n",
       "      <td>location 5489</td>\n",
       "      <td>2.531584e+10</td>\n",
       "    </tr>\n",
       "    <tr>\n",
       "      <th>5</th>\n",
       "      <td>location 5410</td>\n",
       "      <td>2.313787e+10</td>\n",
       "    </tr>\n",
       "    <tr>\n",
       "      <th>4</th>\n",
       "      <td>location 5290</td>\n",
       "      <td>1.714626e+10</td>\n",
       "    </tr>\n",
       "    <tr>\n",
       "      <th>3</th>\n",
       "      <td>location 5150</td>\n",
       "      <td>1.430938e+10</td>\n",
       "    </tr>\n",
       "    <tr>\n",
       "      <th>2</th>\n",
       "      <td>location 4525</td>\n",
       "      <td>1.123136e+10</td>\n",
       "    </tr>\n",
       "    <tr>\n",
       "      <th>12</th>\n",
       "      <td>location 7369</td>\n",
       "      <td>8.673713e+09</td>\n",
       "    </tr>\n",
       "    <tr>\n",
       "      <th>9</th>\n",
       "      <td>location 5833</td>\n",
       "      <td>7.008987e+09</td>\n",
       "    </tr>\n",
       "    <tr>\n",
       "      <th>7</th>\n",
       "      <td>location 565</td>\n",
       "      <td>5.384465e+09</td>\n",
       "    </tr>\n",
       "    <tr>\n",
       "      <th>10</th>\n",
       "      <td>location 6364</td>\n",
       "      <td>3.659045e+09</td>\n",
       "    </tr>\n",
       "    <tr>\n",
       "      <th>15</th>\n",
       "      <td>location 959</td>\n",
       "      <td>3.381152e+09</td>\n",
       "    </tr>\n",
       "    <tr>\n",
       "      <th>0</th>\n",
       "      <td>location 1784</td>\n",
       "      <td>3.205840e+09</td>\n",
       "    </tr>\n",
       "    <tr>\n",
       "      <th>11</th>\n",
       "      <td>location 7048</td>\n",
       "      <td>2.343323e+09</td>\n",
       "    </tr>\n",
       "    <tr>\n",
       "      <th>8</th>\n",
       "      <td>location 5677</td>\n",
       "      <td>1.592378e+09</td>\n",
       "    </tr>\n",
       "    <tr>\n",
       "      <th>14</th>\n",
       "      <td>location 868</td>\n",
       "      <td>1.107746e+09</td>\n",
       "    </tr>\n",
       "  </tbody>\n",
       "</table>\n",
       "</div>"
      ],
      "text/plain": [
       "   deidentified_location     farm_area\n",
       "13         location 8421  3.843340e+10\n",
       "1          location 2532  3.805084e+10\n",
       "6          location 5489  2.531584e+10\n",
       "5          location 5410  2.313787e+10\n",
       "4          location 5290  1.714626e+10\n",
       "3          location 5150  1.430938e+10\n",
       "2          location 4525  1.123136e+10\n",
       "12         location 7369  8.673713e+09\n",
       "9          location 5833  7.008987e+09\n",
       "7           location 565  5.384465e+09\n",
       "10         location 6364  3.659045e+09\n",
       "15          location 959  3.381152e+09\n",
       "0          location 1784  3.205840e+09\n",
       "11         location 7048  2.343323e+09\n",
       "8          location 5677  1.592378e+09\n",
       "14          location 868  1.107746e+09"
      ]
     },
     "execution_count": 26,
     "metadata": {},
     "output_type": "execute_result"
    }
   ],
   "source": [
    "# In Which Location the Farm Area is maximum\n",
    "df2 = train.groupby(['deidentified_location'])['farm_area'].sum().reset_index()\n",
    "#df.reset_index()\n",
    "df2.sort_values('farm_area', ascending = False)\n"
   ]
  },
  {
   "cell_type": "code",
   "execution_count": 28,
   "metadata": {},
   "outputs": [
    {
     "data": {
      "text/html": [
       "<div>\n",
       "<style scoped>\n",
       "    .dataframe tbody tr th:only-of-type {\n",
       "        vertical-align: middle;\n",
       "    }\n",
       "\n",
       "    .dataframe tbody tr th {\n",
       "        vertical-align: top;\n",
       "    }\n",
       "\n",
       "    .dataframe thead th {\n",
       "        text-align: right;\n",
       "    }\n",
       "</style>\n",
       "<table border=\"1\" class=\"dataframe\">\n",
       "  <thead>\n",
       "    <tr style=\"text-align: right;\">\n",
       "      <th></th>\n",
       "      <th>deidentified_location</th>\n",
       "      <th>precipitation</th>\n",
       "      <th>dew_temp</th>\n",
       "    </tr>\n",
       "  </thead>\n",
       "  <tbody>\n",
       "    <tr>\n",
       "      <th>8</th>\n",
       "      <td>location 5677</td>\n",
       "      <td>343.0</td>\n",
       "      <td>25.6</td>\n",
       "    </tr>\n",
       "    <tr>\n",
       "      <th>12</th>\n",
       "      <td>location 7369</td>\n",
       "      <td>343.0</td>\n",
       "      <td>25.6</td>\n",
       "    </tr>\n",
       "    <tr>\n",
       "      <th>3</th>\n",
       "      <td>location 5150</td>\n",
       "      <td>333.0</td>\n",
       "      <td>24.4</td>\n",
       "    </tr>\n",
       "    <tr>\n",
       "      <th>2</th>\n",
       "      <td>location 4525</td>\n",
       "      <td>262.0</td>\n",
       "      <td>22.9</td>\n",
       "    </tr>\n",
       "    <tr>\n",
       "      <th>14</th>\n",
       "      <td>location 868</td>\n",
       "      <td>262.0</td>\n",
       "      <td>22.9</td>\n",
       "    </tr>\n",
       "    <tr>\n",
       "      <th>1</th>\n",
       "      <td>location 2532</td>\n",
       "      <td>216.0</td>\n",
       "      <td>25.0</td>\n",
       "    </tr>\n",
       "    <tr>\n",
       "      <th>13</th>\n",
       "      <td>location 8421</td>\n",
       "      <td>203.0</td>\n",
       "      <td>26.1</td>\n",
       "    </tr>\n",
       "    <tr>\n",
       "      <th>4</th>\n",
       "      <td>location 5290</td>\n",
       "      <td>198.0</td>\n",
       "      <td>26.1</td>\n",
       "    </tr>\n",
       "    <tr>\n",
       "      <th>7</th>\n",
       "      <td>location 565</td>\n",
       "      <td>198.0</td>\n",
       "      <td>24.4</td>\n",
       "    </tr>\n",
       "    <tr>\n",
       "      <th>5</th>\n",
       "      <td>location 5410</td>\n",
       "      <td>150.0</td>\n",
       "      <td>25.6</td>\n",
       "    </tr>\n",
       "    <tr>\n",
       "      <th>6</th>\n",
       "      <td>location 5489</td>\n",
       "      <td>132.0</td>\n",
       "      <td>23.3</td>\n",
       "    </tr>\n",
       "    <tr>\n",
       "      <th>9</th>\n",
       "      <td>location 5833</td>\n",
       "      <td>124.0</td>\n",
       "      <td>18.3</td>\n",
       "    </tr>\n",
       "    <tr>\n",
       "      <th>0</th>\n",
       "      <td>location 1784</td>\n",
       "      <td>79.0</td>\n",
       "      <td>15.0</td>\n",
       "    </tr>\n",
       "    <tr>\n",
       "      <th>10</th>\n",
       "      <td>location 6364</td>\n",
       "      <td>NaN</td>\n",
       "      <td>19.0</td>\n",
       "    </tr>\n",
       "    <tr>\n",
       "      <th>11</th>\n",
       "      <td>location 7048</td>\n",
       "      <td>NaN</td>\n",
       "      <td>18.3</td>\n",
       "    </tr>\n",
       "    <tr>\n",
       "      <th>15</th>\n",
       "      <td>location 959</td>\n",
       "      <td>NaN</td>\n",
       "      <td>20.7</td>\n",
       "    </tr>\n",
       "  </tbody>\n",
       "</table>\n",
       "</div>"
      ],
      "text/plain": [
       "   deidentified_location  precipitation  dew_temp\n",
       "8          location 5677          343.0      25.6\n",
       "12         location 7369          343.0      25.6\n",
       "3          location 5150          333.0      24.4\n",
       "2          location 4525          262.0      22.9\n",
       "14          location 868          262.0      22.9\n",
       "1          location 2532          216.0      25.0\n",
       "13         location 8421          203.0      26.1\n",
       "4          location 5290          198.0      26.1\n",
       "7           location 565          198.0      24.4\n",
       "5          location 5410          150.0      25.6\n",
       "6          location 5489          132.0      23.3\n",
       "9          location 5833          124.0      18.3\n",
       "0          location 1784           79.0      15.0\n",
       "10         location 6364            NaN      19.0\n",
       "11         location 7048            NaN      18.3\n",
       "15          location 959            NaN      20.7"
      ]
     },
     "execution_count": 28,
     "metadata": {},
     "output_type": "execute_result"
    }
   ],
   "source": [
    "#The Maximum percipitation and dew point temp at the deidentified locations \n",
    "df3 = train_weather.groupby(['deidentified_location'])['precipitation','dew_temp'].max().reset_index()\n",
    "#df.reset_index()\n",
    "df3.sort_values('precipitation', ascending = False)"
   ]
  },
  {
   "cell_type": "markdown",
   "metadata": {},
   "source": [
    "The above data represents the **Max Precipitation** measured as (mm/day) & **Max Dew Point Temp** in Celcius at different locations.\n",
    "dew_temp is the temp which needs to be cooled at (constant pressure) in order to achieve a Relative Humidity(Measure of Water Vapour in air - Gas) \n",
    "When the temp drops sufficiently water vapour(Gas) condeses to water droplets(rainfall) usually as Precipitation."
   ]
  },
  {
   "cell_type": "code",
   "execution_count": 29,
   "metadata": {},
   "outputs": [
    {
     "data": {
      "image/png": "[encoded data removed]",
      "text/plain": [
       "<Figure size 432x288 with 1 Axes>"
      ]
     },
     "metadata": {
      "needs_background": "light"
     },
     "output_type": "display_data"
    }
   ],
   "source": [
    "## Scatter plot to display the relation between the 'dew_temp'  and 'precipitation'\n",
    "sns.scatterplot(x ='dew_temp', y = 'precipitation', data= train, markers=True,style_order=None )\n",
    "plt.title(\" Dew Point Temperature Vs Precipitation\")\n",
    "plt.xlabel('Dew Temp')\n",
    "plt.ylabel('Precipitation')\n",
    "plt.show()"
   ]
  },
  {
   "cell_type": "markdown",
   "metadata": {},
   "source": [
    "● The above scatter plot shows us the relationship between two variables of weather data which results in rainfall -\n",
    "  It Shows how the Precipitation and Dew Temp are related (We can Observe few Outliers in the Precipitation which are above 100) "
   ]
  },
  {
   "cell_type": "code",
   "execution_count": 30,
   "metadata": {},
   "outputs": [
    {
     "data": {
      "text/html": [
       "<div>\n",
       "<style scoped>\n",
       "    .dataframe tbody tr th:only-of-type {\n",
       "        vertical-align: middle;\n",
       "    }\n",
       "\n",
       "    .dataframe tbody tr th {\n",
       "        vertical-align: top;\n",
       "    }\n",
       "\n",
       "    .dataframe thead th {\n",
       "        text-align: right;\n",
       "    }\n",
       "</style>\n",
       "<table border=\"1\" class=\"dataframe\">\n",
       "  <thead>\n",
       "    <tr style=\"text-align: right;\">\n",
       "      <th></th>\n",
       "      <th>deidentified_location</th>\n",
       "      <th>temp_obs</th>\n",
       "      <th>dew_temp</th>\n",
       "    </tr>\n",
       "  </thead>\n",
       "  <tbody>\n",
       "    <tr>\n",
       "      <th>6</th>\n",
       "      <td>location 5489</td>\n",
       "      <td>47.2</td>\n",
       "      <td>23.3</td>\n",
       "    </tr>\n",
       "    <tr>\n",
       "      <th>13</th>\n",
       "      <td>location 8421</td>\n",
       "      <td>39.4</td>\n",
       "      <td>26.1</td>\n",
       "    </tr>\n",
       "    <tr>\n",
       "      <th>4</th>\n",
       "      <td>location 5290</td>\n",
       "      <td>37.8</td>\n",
       "      <td>26.1</td>\n",
       "    </tr>\n",
       "    <tr>\n",
       "      <th>0</th>\n",
       "      <td>location 1784</td>\n",
       "      <td>37.2</td>\n",
       "      <td>15.0</td>\n",
       "    </tr>\n",
       "    <tr>\n",
       "      <th>7</th>\n",
       "      <td>location 565</td>\n",
       "      <td>37.2</td>\n",
       "      <td>24.4</td>\n",
       "    </tr>\n",
       "    <tr>\n",
       "      <th>8</th>\n",
       "      <td>location 5677</td>\n",
       "      <td>36.1</td>\n",
       "      <td>25.6</td>\n",
       "    </tr>\n",
       "    <tr>\n",
       "      <th>12</th>\n",
       "      <td>location 7369</td>\n",
       "      <td>36.1</td>\n",
       "      <td>25.6</td>\n",
       "    </tr>\n",
       "    <tr>\n",
       "      <th>1</th>\n",
       "      <td>location 2532</td>\n",
       "      <td>35.6</td>\n",
       "      <td>25.0</td>\n",
       "    </tr>\n",
       "    <tr>\n",
       "      <th>5</th>\n",
       "      <td>location 5410</td>\n",
       "      <td>35.6</td>\n",
       "      <td>25.6</td>\n",
       "    </tr>\n",
       "    <tr>\n",
       "      <th>9</th>\n",
       "      <td>location 5833</td>\n",
       "      <td>35.0</td>\n",
       "      <td>18.3</td>\n",
       "    </tr>\n",
       "    <tr>\n",
       "      <th>2</th>\n",
       "      <td>location 4525</td>\n",
       "      <td>33.9</td>\n",
       "      <td>22.9</td>\n",
       "    </tr>\n",
       "    <tr>\n",
       "      <th>3</th>\n",
       "      <td>location 5150</td>\n",
       "      <td>33.9</td>\n",
       "      <td>24.4</td>\n",
       "    </tr>\n",
       "    <tr>\n",
       "      <th>14</th>\n",
       "      <td>location 868</td>\n",
       "      <td>33.9</td>\n",
       "      <td>22.9</td>\n",
       "    </tr>\n",
       "    <tr>\n",
       "      <th>15</th>\n",
       "      <td>location 959</td>\n",
       "      <td>32.9</td>\n",
       "      <td>20.7</td>\n",
       "    </tr>\n",
       "    <tr>\n",
       "      <th>10</th>\n",
       "      <td>location 6364</td>\n",
       "      <td>30.0</td>\n",
       "      <td>19.0</td>\n",
       "    </tr>\n",
       "    <tr>\n",
       "      <th>11</th>\n",
       "      <td>location 7048</td>\n",
       "      <td>26.0</td>\n",
       "      <td>18.3</td>\n",
       "    </tr>\n",
       "  </tbody>\n",
       "</table>\n",
       "</div>"
      ],
      "text/plain": [
       "   deidentified_location  temp_obs  dew_temp\n",
       "6          location 5489      47.2      23.3\n",
       "13         location 8421      39.4      26.1\n",
       "4          location 5290      37.8      26.1\n",
       "0          location 1784      37.2      15.0\n",
       "7           location 565      37.2      24.4\n",
       "8          location 5677      36.1      25.6\n",
       "12         location 7369      36.1      25.6\n",
       "1          location 2532      35.6      25.0\n",
       "5          location 5410      35.6      25.6\n",
       "9          location 5833      35.0      18.3\n",
       "2          location 4525      33.9      22.9\n",
       "3          location 5150      33.9      24.4\n",
       "14          location 868      33.9      22.9\n",
       "15          location 959      32.9      20.7\n",
       "10         location 6364      30.0      19.0\n",
       "11         location 7048      26.0      18.3"
      ]
     },
     "execution_count": 30,
     "metadata": {},
     "output_type": "execute_result"
    }
   ],
   "source": [
    "#The temp observed and dew point temp w.r.t the deidentified locations \n",
    "df5 = train_weather.groupby(['deidentified_location'])['temp_obs','dew_temp'].max().reset_index()\n",
    "#df.reset_index()\n",
    "df5.sort_values('temp_obs', ascending = False)\n"
   ]
  },
  {
   "cell_type": "code",
   "execution_count": 32,
   "metadata": {},
   "outputs": [
    {
     "data": {
      "image/png": "[encoded data removed]",
      "text/plain": [
       "<Figure size 720x720 with 1 Axes>"
      ]
     },
     "metadata": {},
     "output_type": "display_data"
    }
   ],
   "source": [
    "#Plot between 'temp_obs' and 'precipitation'\n",
    "sns.scatterplot(x ='temp_obs', y = 'precipitation', data= train_weather)\n",
    "plt.title(\" Precipitation Vs Temp\")\n",
    "plt.xlabel(' Temp Obs')\n",
    "plt.ylabel(' Precipitation')\n",
    "\n",
    "\n",
    "plt.show()"
   ]
  },
  {
   "cell_type": "markdown",
   "metadata": {},
   "source": [
    "### 5) Missing values Treatment ."
   ]
  },
  {
   "cell_type": "code",
   "execution_count": 33,
   "metadata": {},
   "outputs": [
    {
     "data": {
      "text/plain": [
       "timestamp                            0\n",
       "deidentified_location                0\n",
       "temp_obs                          6242\n",
       "cloudiness                     8904896\n",
       "wind_direction                 1376296\n",
       "dew_temp                          9763\n",
       "pressure_sea_level             1186931\n",
       "precipitation                  3730108\n",
       "wind_speed                       53672\n",
       "farm_id                              0\n",
       "operations_commencing_year    12336277\n",
       "num_processing_plants         16915352\n",
       "farm_area                            0\n",
       "farming_company                      0\n",
       "ingredient_type                      0\n",
       "yield                                0\n",
       "dtype: int64"
      ]
     },
     "execution_count": 33,
     "metadata": {},
     "output_type": "execute_result"
    }
   ],
   "source": [
    "train.isnull().sum()"
   ]
  },
  {
   "cell_type": "code",
   "execution_count": 40,
   "metadata": {
    "scrolled": true
   },
   "outputs": [
    {
     "data": {
      "text/plain": [
       "(20511532, 16)"
      ]
     },
     "execution_count": 40,
     "metadata": {},
     "output_type": "execute_result"
    }
   ],
   "source": [
    "train.shape"
   ]
  },
  {
   "cell_type": "code",
   "execution_count": 48,
   "metadata": {},
   "outputs": [
    {
     "data": {
      "text/plain": [
       "GridSpec(6, 6)"
      ]
     },
     "execution_count": 48,
     "metadata": {},
     "output_type": "execute_result"
    },
    {
     "data": {
      "image/png": "[encoded data removed]",
      "text/plain": [
       "<Figure size 1440x1440 with 4 Axes>"
      ]
     },
     "metadata": {},
     "output_type": "display_data"
    }
   ],
   "source": [
    "import klib\n",
    "#klib.missingval_plot(train_weather)\n",
    "#klib.missingval_plot(train_data)\n",
    "klib.missingval_plot(farm_data)"
   ]
  },
  {
   "cell_type": "markdown",
   "metadata": {},
   "source": [
    "### 6) Outlier Treatment/Anamoly Detection"
   ]
  },
  {
   "cell_type": "code",
   "execution_count": 57,
   "metadata": {},
   "outputs": [
    {
     "data": {
      "image/png": "[encoded data removed]",
      "text/plain": [
       "<Figure size 720x576 with 1 Axes>"
      ]
     },
     "metadata": {},
     "output_type": "display_data"
    }
   ],
   "source": [
    "#Boxplot for Outlier Detection in Weather Data\n",
    "plt.figure(figsize = (10,8))\n",
    "sns.boxplot(data = train_weather)\n",
    "plt.title(\"Outliers in weather_data\")\n",
    "plt.xticks(rotation = 90)\n",
    "plt.show()"
   ]
  },
  {
   "cell_type": "markdown",
   "metadata": {},
   "source": [
    "### Plot to check the monthly yeild over the given year using multiple timeseries charts "
   ]
  },
  {
   "cell_type": "code",
   "execution_count": 66,
   "metadata": {
    "collapsed": true
   },
   "outputs": [
    {
     "ename": "NameError",
     "evalue": "name 'sns' is not defined",
     "output_type": "error",
     "traceback": [
      "\u001b[1;31m---------------------------------------------------------------------------\u001b[0m",
      "\u001b[1;31mNameError\u001b[0m                                 Traceback (most recent call last)",
      "\u001b[1;32m~\\AppData\\Local\\Temp\\ipykernel_12108\\873325459.py\u001b[0m in \u001b[0;36m<module>\u001b[1;34m\u001b[0m\n\u001b[1;32m----> 1\u001b[1;33m \u001b[0msns\u001b[0m\u001b[1;33m.\u001b[0m\u001b[0mset_theme\u001b[0m\u001b[1;33m(\u001b[0m\u001b[0mstyle\u001b[0m\u001b[1;33m=\u001b[0m\u001b[1;34m\"dark\"\u001b[0m\u001b[1;33m)\u001b[0m\u001b[1;33m\u001b[0m\u001b[1;33m\u001b[0m\u001b[0m\n\u001b[0m\u001b[0;32m      2\u001b[0m \u001b[0mflights\u001b[0m \u001b[1;33m=\u001b[0m \u001b[0msns\u001b[0m\u001b[1;33m.\u001b[0m\u001b[0mload_dataset\u001b[0m\u001b[1;33m(\u001b[0m\u001b[1;34m\"train\"\u001b[0m\u001b[1;33m)\u001b[0m\u001b[1;33m\u001b[0m\u001b[1;33m\u001b[0m\u001b[0m\n\u001b[0;32m      3\u001b[0m \u001b[1;33m\u001b[0m\u001b[0m\n\u001b[0;32m      4\u001b[0m \u001b[1;31m# Plot each year's time series\u001b[0m\u001b[1;33m\u001b[0m\u001b[1;33m\u001b[0m\u001b[0m\n\u001b[0;32m      5\u001b[0m g = sns.relplot(\n",
      "\u001b[1;31mNameError\u001b[0m: name 'sns' is not defined"
     ]
    }
   ],
   "source": [
    "sns.set_theme(style=\"dark\")\n",
    "flights = sns.load_dataset(\"train\")\n",
    "\n",
    "# Plot each year's time series\n",
    "g = sns.relplot(\n",
    "    data=train,\n",
    "    x=\"month\", y=\"yield\", col=\"year\", hue=\"month\",\n",
    "    kind=\"line\", palette=\"crest\", linewidth=4, zorder=5,\n",
    "    col_wrap=3, height=2, aspect=1.5, legend=False,\n",
    ")\n",
    "\n",
    "# Iterate over each subplot to customize further\n",
    "for year, ax in g.axes_dict.items():\n",
    "\n",
    "    # Add the title as an annotation within the plot\n",
    "    ax.text(.8, .85, year, transform=ax.transAxes, fontweight=\"bold\")\n",
    "\n",
    "    # Plot every year's time series in the background\n",
    "    sns.lineplot(\n",
    "        data=flights, x=\"month\", y=\"yield\", units=\"month\",\n",
    "        estimator=None, color=\".7\", linewidth=1, ax=ax,\n",
    "    )\n",
    "\n",
    "# Reduce the frequency of the x axis ticks\n",
    "ax.set_xticks(ax.get_xticks()[::2])\n",
    "\n",
    "# Tweak the supporting aspects of the plot\n",
    "g.set_titles(\"monthly yield over the given year\")\n",
    "g.set_axis_labels(\"\", \"yield\")\n",
    "g.tight_layout()"
   ]
  },
  {
   "cell_type": "markdown",
   "metadata": {},
   "source": [
    "## From the EDA done above we see that"
   ]
  },
  {
   "cell_type": "markdown",
   "metadata": {},
   "source": [
    "* The date and timestamp variables tells us the time series data for a single entire year '2016' only.\n",
    "\n",
    "* From the unique value count we find that there are 16 different locations in the deidentified form and 16 farming companies in the data and there are 4 types of ingredient types.\n",
    "\n",
    "* The ingredient \"ing_w\" makes a major contribution in the total yield production among the 4 types.\n",
    "\n",
    "* 'operations_commencing_year' attribute looks to be providing no value. Hence can be removed.\n",
    "\n",
    "* The weather data gives us an insight that each variable depends not only on its past values but also has some dependency \n",
    "  on other variables along with the temperature value for the whole year 2016.\n",
    "    \n",
    "* There is an imbalance and outliers observed in the columns.\n",
    "\n",
    "* We have also listed out the Top 5 performing farming companies in the production."
   ]
  }
 ],
 "metadata": {
  "kernelspec": {
   "display_name": "Python 3 (ipykernel)",
   "language": "python",
   "name": "python3"
  },
  "language_info": {
   "codemirror_mode": {
    "name": "ipython",
    "version": 3
   },
   "file_extension": ".py",
   "mimetype": "text/x-python",
   "name": "python",
   "nbconvert_exporter": "python",
   "pygments_lexer": "ipython3",
   "version": "3.9.13"
  }
 },
 "nbformat": 4,
 "nbformat_minor": 4
}
